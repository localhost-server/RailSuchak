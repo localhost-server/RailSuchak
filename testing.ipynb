{
 "cells": [
  {
   "cell_type": "code",
   "execution_count": null,
   "metadata": {},
   "outputs": [],
   "source": [
    "import os\n",
    "import signal\n",
    "import sys\n",
    "\n",
    "from elevenlabs.client import ElevenLabs\n",
    "from elevenlabs.conversational_ai.conversation import Conversation\n",
    "from elevenlabs.conversational_ai.default_audio_interface import DefaultAudioInterface"
   ]
  },
  {
   "cell_type": "code",
   "execution_count": null,
   "metadata": {},
   "outputs": [],
   "source": [
    "\n",
    "def main():\n",
    "    AGENT_ID='0Vbhs0IWORdApcEGENIb'\n",
    "    API_KEY='sk_278fb411478059f1a32abefafa9bcc323f149b0037cf8acd'\n",
    "\n",
    "    if not AGENT_ID:\n",
    "        sys.stderr.write(\"AGENT_ID environment variable must be set\\n\")\n",
    "        sys.exit(1)\n",
    "    \n",
    "    if not API_KEY:\n",
    "        sys.stderr.write(\"ELEVENLABS_API_KEY not set, assuming the agent is public\\n\")\n",
    "\n",
    "    client = ElevenLabs(api_key=API_KEY)\n",
    "    conversation = Conversation(\n",
    "        client,\n",
    "        AGENT_ID,\n",
    "        # Assume auth is required when API_KEY is set\n",
    "        requires_auth=bool(API_KEY),\n",
    "        audio_interface=DefaultAudioInterface(),\n",
    "        callback_agent_response=lambda response: print(f\"Agent: {response}\"),\n",
    "        callback_agent_response_correction=lambda original, corrected: print(f\"Agent: {original} -> {corrected}\"),\n",
    "        callback_user_transcript=lambda transcript: print(f\"User: {transcript}\"),\n",
    "        # callback_latency_measurement=lambda latency: print(f\"Latency: {latency}ms\"),\n",
    "    )\n",
    "    conversation.start_session()\n",
    "\n",
    "    # Run until Ctrl+C is pressed.\n",
    "    signal.signal(signal.SIGINT, lambda sig, frame: conversation.end_session())\n",
    "\n",
    "    conversation_id = conversation.wait_for_session_end()\n",
    "    print(f\"Conversation ID: {conversation_id}\")\n"
   ]
  },
  {
   "cell_type": "code",
   "execution_count": null,
   "metadata": {},
   "outputs": [],
   "source": [
    "main()"
   ]
  },
  {
   "cell_type": "code",
   "execution_count": null,
   "metadata": {},
   "outputs": [],
   "source": [
    "import requests\n",
    "\n",
    "url = \"https://irctc1.p.rapidapi.com/api/v1/searchStation\"\n",
    "\n",
    "querystring = {\"query\":\"BJU\"}\n",
    "\n",
    "headers = {\n",
    "\t\"x-rapidapi-key\": \"999a4e361fmshed1d5d600aa108fp128b75jsn63b07c808776\",\n",
    "\t\"x-rapidapi-host\": \"irctc1.p.rapidapi.com\"\n",
    "}\n",
    "\n",
    "response = requests.get(url, headers=headers, params=querystring)\n",
    "\n",
    "print(response.json())"
   ]
  },
  {
   "cell_type": "code",
   "execution_count": null,
   "metadata": {},
   "outputs": [],
   "source": [
    "import requests\n",
    "\n",
    "url = \"https://irctc1.p.rapidapi.com/api/v1/searchTrain\"\n",
    "\n",
    "querystring = {\"query\":\"190\"}\n",
    "\n",
    "headers = {\n",
    "\t\"x-rapidapi-key\": \"999a4e361fmshed1d5d600aa108fp128b75jsn63b07c808776\",\n",
    "\t\"x-rapidapi-host\": \"irctc1.p.rapidapi.com\"\n",
    "}\n",
    "\n",
    "response = requests.get(url, headers=headers, params=querystring)\n",
    "\n",
    "print(response.json())"
   ]
  },
  {
   "cell_type": "code",
   "execution_count": null,
   "metadata": {},
   "outputs": [],
   "source": []
  }
 ],
 "metadata": {
  "kernelspec": {
   "display_name": "pand",
   "language": "python",
   "name": "python3"
  },
  "language_info": {
   "codemirror_mode": {
    "name": "ipython",
    "version": 3
   },
   "file_extension": ".py",
   "mimetype": "text/x-python",
   "name": "python",
   "nbconvert_exporter": "python",
   "pygments_lexer": "ipython3",
   "version": "3.11.11"
  }
 },
 "nbformat": 4,
 "nbformat_minor": 2
}
